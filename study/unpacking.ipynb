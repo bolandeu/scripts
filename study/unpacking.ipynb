{
 "nbformat": 4,
 "nbformat_minor": 2,
 "metadata": {
  "language_info": {
   "name": "python",
   "codemirror_mode": {
    "name": "ipython",
    "version": 3
   },
   "version": "3.7.4-final"
  },
  "orig_nbformat": 2,
  "file_extension": ".py",
  "mimetype": "text/x-python",
  "name": "python",
  "npconvert_exporter": "python",
  "pygments_lexer": "ipython3",
  "version": 3,
  "kernelspec": {
   "name": "python3",
   "display_name": "Python 3"
  }
 },
 "cells": [
  {
   "cell_type": "markdown",
   "execution_count": null,
   "metadata": {},
   "outputs": [],
   "source": [
    "# Распаковка последовтельностей в пременные\n",
    "\n",
    "Любая последоательность может быть распакована в переменные с помощью постого присваивания. Главное, чтобы количество элементов последовательности и количество переенных совпадало.\n",
    "\n",
    "Распаковка работает с любыми итерируемы объектами, например строками, генераторами и итераторами.\n",
    "\n",
    "\n",
    "\n"
   ]
  },
  {
   "cell_type": "code",
   "execution_count": 1,
   "metadata": {},
   "outputs": [
    {
     "name": "stdout",
     "output_type": "stream",
     "text": "4\n5\n"
    }
   ],
   "source": [
    "p = (4,5)\n",
    "x, y = p\n",
    "print(x)\n",
    "print(y)"
   ]
  },
  {
   "cell_type": "code",
   "execution_count": 4,
   "metadata": {},
   "outputs": [
    {
     "name": "stdout",
     "output_type": "stream",
     "text": "ACME 91.1 произведено (2012, 12, 21)\n"
    }
   ],
   "source": [
    "data = ['ACME', 50, 91.1, (2012, 12, 21)]\n",
    "name, share, price, date = data\n",
    "print(name, price, \"произведено\", date)"
   ]
  },
  {
   "cell_type": "code",
   "execution_count": 5,
   "metadata": {},
   "outputs": [
    {
     "name": "stdout",
     "output_type": "stream",
     "text": "ACME произведен 2012\n"
    }
   ],
   "source": [
    "name, share, price, (year, mont, day) = data\n",
    "print(name, \"произведен\", year)"
   ]
  },
  {
   "cell_type": "code",
   "execution_count": 6,
   "metadata": {},
   "outputs": [
    {
     "name": "stdout",
     "output_type": "stream",
     "text": "R o m a\n"
    }
   ],
   "source": [
    "string = \"Roma\"\n",
    "l1, l2, l3, l4 = string\n",
    "print(l1, l2, l3, l4)\n"
   ]
  },
  {
   "cell_type": "code",
   "execution_count": 7,
   "metadata": {},
   "outputs": [
    {
     "name": "stdout",
     "output_type": "stream",
     "text": "o a\n"
    }
   ],
   "source": [
    "_, g1, _, g2 = string # нижним подчеркиванием можно заводить переменные под определенные элементы\n",
    "print(g1, g2)"
   ]
  },
  {
   "cell_type": "code",
   "execution_count": null,
   "metadata": {},
   "outputs": [],
   "source": []
  }
 ]
}